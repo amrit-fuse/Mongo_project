{
 "cells": [
  {
   "cell_type": "code",
   "execution_count": 8,
   "metadata": {},
   "outputs": [],
   "source": [
    "# # both are installed at same time  then error occurs... as pymongo also has bson module of some kind so first install 'pymongo[srv]' and then run import in below cell then install bson and run import in below cell again\n",
    "\n",
    "# ! pip install 'pymongo[srv]'\n",
    "# ! pip install bson"
   ]
  },
  {
   "cell_type": "code",
   "execution_count": 9,
   "metadata": {},
   "outputs": [],
   "source": [
    "# ! pip uninstall 'pymongo[srv]' -y\n",
    "# ! pip uninstall bson -y"
   ]
  },
  {
   "cell_type": "code",
   "execution_count": 10,
   "metadata": {},
   "outputs": [],
   "source": [
    "from pymongo import MongoClient\n",
    "from dotenv import load_dotenv\n",
    "import pprint # pretty print library is used to make the output look more organized\n",
    "import datetime\n",
    "from secrets import *\n",
    "\n",
    "\n",
    "from bson.objectid import ObjectId"
   ]
  },
  {
   "cell_type": "code",
   "execution_count": 11,
   "metadata": {},
   "outputs": [],
   "source": [
    "MONGODB_URI = connection_string\n",
    "client = MongoClient(MONGODB_URI)\n",
    "\n",
    "# # List all databases in the cluster.\n",
    "# for db_name in client.list_database_names():\n",
    "#     print(db_name)\n",
    "\n"
   ]
  },
  {
   "cell_type": "markdown",
   "metadata": {},
   "source": [
    "### insert_one"
   ]
  },
  {
   "cell_type": "code",
   "execution_count": 12,
   "metadata": {},
   "outputs": [
    {
     "name": "stdout",
     "output_type": "stream",
     "text": [
      "_id of inserted document: 63806d2e1006d864394f9726\n"
     ]
    }
   ],
   "source": [
    "\n",
    "# Get reference to 'bank' database\n",
    "db = client.bank  # if dont exist, it will be created\n",
    "\n",
    "# Get reference to 'accounts' collection\n",
    "accounts_collection = db.accounts # if dont exist, it will be created\n",
    "\n",
    "new_account = {\n",
    "    \"account_holder\": \"Linus Torvalds\",\n",
    "    \"account_id\": \"MDB829001337\",\n",
    "    \"account_type\": \"checking\",\n",
    "    \"balance\": 50352434,\n",
    "    \"last_updated\": datetime.datetime.utcnow(),\n",
    "}\n",
    "\n",
    "# Write an expression that inserts the 'new_account' document into the 'accounts' collection.\n",
    "result = accounts_collection.insert_one(new_account)\n",
    "\n",
    "document_id = result.inserted_id\n",
    "print(f\"_id of inserted document: {document_id}\")\n",
    "\n",
    "\n"
   ]
  },
  {
   "cell_type": "markdown",
   "metadata": {},
   "source": [
    "### insert_many"
   ]
  },
  {
   "cell_type": "code",
   "execution_count": 13,
   "metadata": {},
   "outputs": [
    {
     "name": "stdout",
     "output_type": "stream",
     "text": [
      "# of documents inserted: 2\n",
      "_ids of inserted documents: [ObjectId('63806d2f1006d864394f9727'), ObjectId('63806d2f1006d864394f9728')]\n"
     ]
    }
   ],
   "source": [
    "# Get reference to 'bank' database\n",
    "db = client.bank\n",
    "\n",
    "# Get a reference to 'accounts' collection\n",
    "accounts_collection = db.accounts\n",
    "\n",
    "new_accounts = [\n",
    "    {\n",
    "        \"account_id\": \"MDB011235813\",\n",
    "        \"account_holder\": \"Ada Lovelace\",\n",
    "        \"account_type\": \"checking\",\n",
    "        \"balance\": 60218,\n",
    "    },\n",
    "    {\n",
    "        \"account_id\": \"MDB829000001\",\n",
    "        \"account_holder\": \"Muhammad ibn Musa al-Khwarizmi\",\n",
    "        \"account_type\": \"savings\",\n",
    "        \"balance\": 267914296,\n",
    "    },\n",
    "]\n",
    "\n",
    "# Write an expression that inserts the documents in 'new_accounts' into the 'accounts' collection.\n",
    "result = accounts_collection.insert_many(new_accounts)\n",
    "\n",
    "document_ids = result.inserted_ids\n",
    "print(\"# of documents inserted: \" + str(len(document_ids)))\n",
    "print(f\"_ids of inserted documents: {document_ids}\")"
   ]
  },
  {
   "cell_type": "markdown",
   "metadata": {},
   "source": [
    "### find_one"
   ]
  },
  {
   "cell_type": "code",
   "execution_count": 14,
   "metadata": {},
   "outputs": [
    {
     "name": "stdout",
     "output_type": "stream",
     "text": [
      "None\n"
     ]
    }
   ],
   "source": [
    "# Get reference to 'bank' database\n",
    "db = client.bank\n",
    "\n",
    "# Get a reference to the 'accounts' collection\n",
    "accounts_collection = db.accounts\n",
    "\n",
    "# Query by ObjectId\n",
    "document_to_find = {\"_id\": ObjectId(\"6380516f1279ecfabb3decc9\")}\n",
    "\n",
    "# Write an expression that retrieves the document matching the query constraint in the 'accounts' collection.\n",
    "result = accounts_collection.find_one(document_to_find)\n",
    "pprint.pprint(result)\n",
    "\n"
   ]
  },
  {
   "cell_type": "markdown",
   "metadata": {},
   "source": [
    "### find for all"
   ]
  },
  {
   "cell_type": "code",
   "execution_count": 15,
   "metadata": {},
   "outputs": [
    {
     "name": "stdout",
     "output_type": "stream",
     "text": [
      "{'_id': ObjectId('63804f3e03cc11cd1f77565d'),\n",
      " 'account_holder': 'Linus Torvalds',\n",
      " 'account_id': 'MDB829001337',\n",
      " 'account_type': 'checking',\n",
      " 'balance': 50352434,\n",
      " 'last_updated': datetime.datetime(2022, 11, 25, 5, 14, 38, 762000)}\n",
      "\n",
      "{'_id': ObjectId('63804fcf03cc11cd1f775663'),\n",
      " 'account_holder': 'Linus Torvalds',\n",
      " 'account_id': 'MDB829001337',\n",
      " 'account_type': 'checking',\n",
      " 'balance': 50352434,\n",
      " 'last_updated': datetime.datetime(2022, 11, 25, 5, 17, 3, 265000)}\n",
      "\n",
      "{'_id': ObjectId('6380510f7917cf02af801200'),\n",
      " 'account_holder': 'Linus Torvalds',\n",
      " 'account_id': 'MDB829001337',\n",
      " 'account_type': 'checking',\n",
      " 'balance': 50352434,\n",
      " 'last_updated': datetime.datetime(2022, 11, 25, 5, 22, 23, 859000)}\n",
      "\n",
      "{'_id': ObjectId('6380516f1279ecfabb3decc8'),\n",
      " 'account_holder': 'Ada Lovelace',\n",
      " 'account_id': 'MDB011235813',\n",
      " 'account_type': 'checking',\n",
      " 'balance': 60218}\n",
      "\n",
      "{'_id': ObjectId('638052a603cc11cd1f775664'),\n",
      " 'account_holder': 'Ada Lovelace',\n",
      " 'account_id': 'MDB011235813',\n",
      " 'account_type': 'checking',\n",
      " 'balance': 60218}\n",
      "\n",
      "{'_id': ObjectId('638052a603cc11cd1f775665'),\n",
      " 'account_holder': 'Muhammad ibn Musa al-Khwarizmi',\n",
      " 'account_id': 'MDB829000001',\n",
      " 'account_type': 'savings',\n",
      " 'balance': 267914296,\n",
      " 'minimum_balance': 100}\n",
      "\n",
      "{'_id': ObjectId('6380541bdaa653d5fc421631'),\n",
      " 'account_holder': 'Ada Lovelace',\n",
      " 'account_id': 'MDB011235813',\n",
      " 'account_type': 'checking',\n",
      " 'balance': 60218}\n",
      "\n",
      "{'_id': ObjectId('6380541bdaa653d5fc421632'),\n",
      " 'account_holder': 'Muhammad ibn Musa al-Khwarizmi',\n",
      " 'account_id': 'MDB829000001',\n",
      " 'account_type': 'savings',\n",
      " 'balance': 267914296,\n",
      " 'minimum_balance': 100}\n",
      "\n",
      "{'_id': ObjectId('638054333861024d458201c3'),\n",
      " 'account_holder': 'Ada Lovelace',\n",
      " 'account_id': 'MDB011235813',\n",
      " 'account_type': 'checking',\n",
      " 'balance': 60218}\n",
      "\n",
      "{'_id': ObjectId('638054333861024d458201c4'),\n",
      " 'account_holder': 'Muhammad ibn Musa al-Khwarizmi',\n",
      " 'account_id': 'MDB829000001',\n",
      " 'account_type': 'savings',\n",
      " 'balance': 267914296,\n",
      " 'minimum_balance': 100}\n",
      "\n",
      "{'_id': ObjectId('6380581a03cc11cd1f775667'),\n",
      " 'account_holder': 'Linus Torvalds',\n",
      " 'account_id': 'MDB829001337',\n",
      " 'account_type': 'checking',\n",
      " 'balance': 50352434,\n",
      " 'last_updated': datetime.datetime(2022, 11, 25, 5, 52, 26, 542000)}\n",
      "\n",
      "{'_id': ObjectId('6380581b03cc11cd1f775668'),\n",
      " 'account_holder': 'Ada Lovelace',\n",
      " 'account_id': 'MDB011235813',\n",
      " 'account_type': 'checking',\n",
      " 'balance': 60218}\n",
      "\n",
      "{'_id': ObjectId('6380581b03cc11cd1f775669'),\n",
      " 'account_holder': 'Muhammad ibn Musa al-Khwarizmi',\n",
      " 'account_id': 'MDB829000001',\n",
      " 'account_type': 'savings',\n",
      " 'balance': 267914296,\n",
      " 'minimum_balance': 100}\n",
      "\n",
      "{'_id': ObjectId('63806a96086f2639e44c2c88'),\n",
      " 'account_holder': 'Linus Torvalds',\n",
      " 'account_id': 'MDB829001337',\n",
      " 'account_type': 'checking',\n",
      " 'balance': 50352434,\n",
      " 'last_updated': datetime.datetime(2022, 11, 25, 7, 11, 18, 562000)}\n",
      "\n",
      "{'_id': ObjectId('63806a97086f2639e44c2c89'),\n",
      " 'account_holder': 'Ada Lovelace',\n",
      " 'account_id': 'MDB011235813',\n",
      " 'account_type': 'checking',\n",
      " 'balance': 60218}\n",
      "\n",
      "{'_id': ObjectId('63806a97086f2639e44c2c8a'),\n",
      " 'account_holder': 'Muhammad ibn Musa al-Khwarizmi',\n",
      " 'account_id': 'MDB829000001',\n",
      " 'account_type': 'savings',\n",
      " 'balance': 267914296,\n",
      " 'minimum_balance': 100}\n",
      "\n",
      "{'_id': ObjectId('63806d2e1006d864394f9726'),\n",
      " 'account_holder': 'Linus Torvalds',\n",
      " 'account_id': 'MDB829001337',\n",
      " 'account_type': 'checking',\n",
      " 'balance': 50352434,\n",
      " 'last_updated': datetime.datetime(2022, 11, 25, 7, 22, 22, 966000)}\n",
      "\n",
      "{'_id': ObjectId('63806d2f1006d864394f9727'),\n",
      " 'account_holder': 'Ada Lovelace',\n",
      " 'account_id': 'MDB011235813',\n",
      " 'account_type': 'checking',\n",
      " 'balance': 60218}\n",
      "\n",
      "{'_id': ObjectId('63806d2f1006d864394f9728'),\n",
      " 'account_holder': 'Muhammad ibn Musa al-Khwarizmi',\n",
      " 'account_id': 'MDB829000001',\n",
      " 'account_type': 'savings',\n",
      " 'balance': 267914296}\n",
      "\n",
      "# of documents found: 19\n"
     ]
    }
   ],
   "source": [
    "# Get reference to 'bank' database\n",
    "db = client.bank\n",
    "\n",
    "# Get a reference to the 'accounts' collection\n",
    "accounts_collection = db.accounts\n",
    "\n",
    "# Query\n",
    "documents_to_find = {\"balance\": {\"$gt\": 4700}}\n",
    "\n",
    "# Write an expression that selects the documents matching the query constraint in the 'accounts' collection.\n",
    "cursor = accounts_collection.find(documents_to_find)  # cursor is a pointer to the result set of the query which we can iterate over\n",
    "\n",
    "num_docs = 0\n",
    "for document in cursor:\n",
    "    num_docs += 1\n",
    "    pprint.pprint(document)\n",
    "    print()\n",
    "print(\"# of documents found: \" + str(num_docs))"
   ]
  },
  {
   "cell_type": "markdown",
   "metadata": {},
   "source": [
    "### update_one"
   ]
  },
  {
   "cell_type": "code",
   "execution_count": 16,
   "metadata": {},
   "outputs": [
    {
     "name": "stdout",
     "output_type": "stream",
     "text": [
      "None\n",
      "Documents updated: 0\n",
      "None\n"
     ]
    }
   ],
   "source": [
    "# Get reference to 'bank' database\n",
    "db = client.bank\n",
    "\n",
    "# Get reference to 'accounts' collection\n",
    "accounts_collection = db.accounts\n",
    "\n",
    "# Filter\n",
    "document_to_update = {\"_id\": ObjectId(\"6380516f1279ecfabb3decc9\")}\n",
    "\n",
    "# Update\n",
    "add_to_balance = {\"$inc\": {\"balance\": 100}}\n",
    "\n",
    "# Print original document\n",
    "pprint.pprint(accounts_collection.find_one(document_to_update))\n",
    "\n",
    "# Write an expression that adds to the target account balance by the specified amount.\n",
    "result = accounts_collection.update_one(document_to_update, add_to_balance)\n",
    "print(\"Documents updated: \" + str(result.modified_count))\n",
    "\n",
    "# Print updated document\n",
    "pprint.pprint(accounts_collection.find_one(document_to_update))"
   ]
  },
  {
   "cell_type": "markdown",
   "metadata": {},
   "source": [
    "### update_many"
   ]
  },
  {
   "cell_type": "code",
   "execution_count": 17,
   "metadata": {},
   "outputs": [
    {
     "name": "stdout",
     "output_type": "stream",
     "text": [
      "Documents matched: 6\n",
      "Documents updated: 1\n",
      "{'_id': ObjectId('638052a603cc11cd1f775665'),\n",
      " 'account_holder': 'Muhammad ibn Musa al-Khwarizmi',\n",
      " 'account_id': 'MDB829000001',\n",
      " 'account_type': 'savings',\n",
      " 'balance': 267914296,\n",
      " 'minimum_balance': 100}\n"
     ]
    }
   ],
   "source": [
    "# Get reference to 'bank' database\n",
    "db = client.bank\n",
    "\n",
    "# Get reference to 'accounts' collection\n",
    "accounts_collection = db.accounts\n",
    "\n",
    "# Filter\n",
    "select_accounts = {\"account_type\": \"savings\"}\n",
    "\n",
    "# Update\n",
    "set_field = {\"$set\": {\"minimum_balance\": 100}}\n",
    "\n",
    "# Write an expression that adds a 'minimum_balance' field to each savings acccount and sets its value to 100.\n",
    "result = accounts_collection.update_many(select_accounts, set_field)\n",
    "\n",
    "print(\"Documents matched: \" + str(result.matched_count))\n",
    "print(\"Documents updated: \" + str(result.modified_count))\n",
    "pprint.pprint(accounts_collection.find_one(select_accounts))"
   ]
  },
  {
   "cell_type": "markdown",
   "metadata": {},
   "source": [
    "### delete_one     \n",
    "delete_one({})  delete the first document"
   ]
  },
  {
   "cell_type": "code",
   "execution_count": 18,
   "metadata": {},
   "outputs": [
    {
     "name": "stdout",
     "output_type": "stream",
     "text": [
      "Searching for target document before delete: \n",
      "None\n",
      "Searching for target document after delete: \n",
      "None\n",
      "Documents deleted: 0\n"
     ]
    }
   ],
   "source": [
    "# Get reference to 'bank' database\n",
    "db = client.bank\n",
    "\n",
    "# Get a reference to the 'accounts' collection\n",
    "accounts_collection = db.accounts\n",
    "\n",
    "# Filter by ObjectId\n",
    "document_to_delete = {\"_id\": ObjectId(\"6380516f1279ecfabb3decc9\")}\n",
    "\n",
    "# Search for document before delete\n",
    "print(\"Searching for target document before delete: \")\n",
    "pprint.pprint(accounts_collection.find_one(document_to_delete))\n",
    "\n",
    "# Write an expression that deletes the target account.\n",
    "result = accounts_collection.delete_one(document_to_delete)\n",
    "\n",
    "# Search for document after delete\n",
    "print(\"Searching for target document after delete: \")\n",
    "pprint.pprint(accounts_collection.find_one(document_to_delete))\n",
    "\n",
    "print(\"Documents deleted: \" + str(result.deleted_count))\n"
   ]
  },
  {
   "cell_type": "markdown",
   "metadata": {},
   "source": [
    "### delete_many"
   ]
  },
  {
   "cell_type": "code",
   "execution_count": 19,
   "metadata": {},
   "outputs": [
    {
     "name": "stdout",
     "output_type": "stream",
     "text": [
      "Searching for sample target document before delete: \n",
      "None\n",
      "Searching for sample target document after delete: \n",
      "None\n",
      "Documents deleted: 0\n"
     ]
    }
   ],
   "source": [
    "# Get reference to 'bank' database\n",
    "db = client.bank\n",
    "\n",
    "# Get a reference to the 'accounts' collection\n",
    "accounts_collection = db.accounts\n",
    "\n",
    "# Filter for accounts with balance less than $2000\n",
    "documents_to_delete = {\"balance\": {\"$lt\": 2000}}\n",
    "\n",
    "# Search for sample document before delete\n",
    "print(\"Searching for sample target document before delete: \")\n",
    "pprint.pprint(accounts_collection.find_one(documents_to_delete))\n",
    "\n",
    "# Write an expression that deletes the target accounts.\n",
    "result = accounts_collection.delete_many(documents_to_delete)\n",
    "\n",
    "# Search for sample document after delete\n",
    "print(\"Searching for sample target document after delete: \")\n",
    "pprint.pprint(accounts_collection.find_one(documents_to_delete))\n",
    "\n",
    "print(\"Documents deleted: \" + str(result.deleted_count))"
   ]
  },
  {
   "cell_type": "markdown",
   "metadata": {},
   "source": [
    "### mongo db transaction"
   ]
  },
  {
   "cell_type": "code",
   "execution_count": 20,
   "metadata": {},
   "outputs": [
    {
     "name": "stdout",
     "output_type": "stream",
     "text": [
      "Transaction successful\n"
     ]
    }
   ],
   "source": [
    "# Connect to MongoDB cluster with MongoClient\n",
    "client = MongoClient(MONGODB_URI)\n",
    "\n",
    "# Step 1: Define the callback that specifies the sequence of operations to perform inside the transactions.\n",
    "def callback(\n",
    "    session,\n",
    "    transfer_id=None,\n",
    "    account_id_receiver=None,\n",
    "    account_id_sender=None,\n",
    "    transfer_amount=None,\n",
    "):\n",
    "\n",
    "    # Get reference to 'accounts' collection\n",
    "    accounts_collection = session.client.bank.accounts\n",
    "\n",
    "    # Get reference to 'transfers' collection\n",
    "    transfers_collection = session.client.bank.transfers\n",
    "\n",
    "    transfer = {\n",
    "        \"transfer_id\": transfer_id,\n",
    "        \"to_account\": account_id_receiver,\n",
    "        \"from_account\": account_id_sender,\n",
    "        \"amount\": {\"$numberDecimal\": transfer_amount},\n",
    "    }\n",
    "\n",
    "    # Transaction operations\n",
    "    # Important: You must pass the session to each operation\n",
    "\n",
    "    # Update sender account: subtract transfer amount from balance and add transfer ID\n",
    "    accounts_collection.update_one(\n",
    "        {\"account_id\": account_id_sender},\n",
    "        {\n",
    "            \"$inc\": {\"balance\": -transfer_amount},\n",
    "            \"$push\": {\"transfers_complete\": transfer_id}, # push is used to add to an array\n",
    "        },\n",
    "        session=session,\n",
    "    )\n",
    "\n",
    "    # Update receiver account: add transfer amount to balance and add transfer ID\n",
    "    accounts_collection.update_one(\n",
    "        {\"account_id\": account_id_receiver},\n",
    "        {\n",
    "            \"$inc\": {\"balance\": transfer_amount},\n",
    "            \"$push\": {\"transfers_complete\": transfer_id},\n",
    "        },\n",
    "        session=session,\n",
    "    )\n",
    "\n",
    "    # Add new transfer to 'transfers' collection\n",
    "    transfers_collection.insert_one(transfer, session=session)\n",
    "\n",
    "    print(\"Transaction successful\")\n",
    "\n",
    "    return\n",
    "\n",
    "\n",
    "def callback_wrapper(s):\n",
    "    callback(\n",
    "        s,\n",
    "        transfer_id=\"TR218721873\",\n",
    "        account_id_receiver=\"MDB343652528\",\n",
    "        account_id_sender=\"MDB574189300\",\n",
    "        transfer_amount=100,\n",
    "    )\n",
    "\n",
    "\n",
    "# Step 2: Start a client session\n",
    "with client.start_session() as session:\n",
    "    # Step 3: Use with_transaction to start a transaction, execute the callback, and commit (or cancel on error)\n",
    "    session.with_transaction(callback_wrapper)"
   ]
  },
  {
   "cell_type": "markdown",
   "metadata": {},
   "source": [
    "### update and group"
   ]
  },
  {
   "cell_type": "code",
   "execution_count": 21,
   "metadata": {},
   "outputs": [
    {
     "name": "stdout",
     "output_type": "stream",
     "text": [
      "\n",
      "Average balance of checking and savings accounts with balances of less than $1000: \n",
      "\n",
      "{'_id': 'savings', 'avg_balance': 267914296.0}\n",
      "{'_id': 'checking', 'avg_balance': 23272010.0}\n"
     ]
    }
   ],
   "source": [
    "# Connect to MongoDB cluster with MongoClient\n",
    "client = MongoClient(MONGODB_URI)\n",
    "\n",
    "# Get reference to 'bank' database\n",
    "db = client.bank\n",
    "\n",
    "# Get reference to 'accounts' collection\n",
    "accounts_collection = db.accounts\n",
    "\n",
    "# Calculate the average balance of checking and savings accounts with balances of less than $1000.\n",
    "\n",
    "# Select accounts with balances of greater than $1000.\n",
    "select_by_balance = {\"$match\": {\"balance\": {\"$gt\": 1000}}}\n",
    "\n",
    "# Separate documents by account type and calculate the average balance for each account type.\n",
    "separate_by_account_calculate_avg_balance = {\n",
    "    \"$group\": {\"_id\": \"$account_type\", \"avg_balance\": {\"$avg\": \"$balance\"}}\n",
    "}\n",
    "\n",
    "# Create an aggegation pipeline using 'stage_match_balance' and 'stage_group_account_type'.\n",
    "pipeline = [\n",
    "    select_by_balance,\n",
    "    separate_by_account_calculate_avg_balance,\n",
    "]\n",
    "\n",
    "# Perform an aggregation on 'pipeline'.\n",
    "results = accounts_collection.aggregate(pipeline)\n",
    "\n",
    "print()\n",
    "print(\n",
    "    \"Average balance of checking and savings accounts with balances of less than $1000:\", \"\\n\"\n",
    ")\n",
    "\n",
    "for item in results:\n",
    "    pprint.pprint(item)"
   ]
  },
  {
   "cell_type": "markdown",
   "metadata": {},
   "source": [
    "### sort and projection\n"
   ]
  },
  {
   "cell_type": "code",
   "execution_count": 22,
   "metadata": {},
   "outputs": [
    {
     "name": "stdout",
     "output_type": "stream",
     "text": [
      "Account type, original balance and balance in GDP of checking accounts with original balance greater than $1,500,in order from highest original balance to lowest:  \n",
      "\n",
      "{'account_type': 'checking',\n",
      " 'balance': 50352434,\n",
      " 'gbp_balance': 38732641.538461536}\n",
      "{'account_type': 'checking',\n",
      " 'balance': 50352434,\n",
      " 'gbp_balance': 38732641.538461536}\n",
      "{'account_type': 'checking',\n",
      " 'balance': 50352434,\n",
      " 'gbp_balance': 38732641.538461536}\n",
      "{'account_type': 'checking',\n",
      " 'balance': 50352434,\n",
      " 'gbp_balance': 38732641.538461536}\n",
      "{'account_type': 'checking',\n",
      " 'balance': 50352434,\n",
      " 'gbp_balance': 38732641.538461536}\n",
      "{'account_type': 'checking',\n",
      " 'balance': 50352434,\n",
      " 'gbp_balance': 38732641.538461536}\n",
      "{'account_type': 'checking', 'balance': 60218, 'gbp_balance': 46321.53846153846}\n",
      "{'account_type': 'checking', 'balance': 60218, 'gbp_balance': 46321.53846153846}\n",
      "{'account_type': 'checking', 'balance': 60218, 'gbp_balance': 46321.53846153846}\n",
      "{'account_type': 'checking', 'balance': 60218, 'gbp_balance': 46321.53846153846}\n",
      "{'account_type': 'checking', 'balance': 60218, 'gbp_balance': 46321.53846153846}\n",
      "{'account_type': 'checking', 'balance': 60218, 'gbp_balance': 46321.53846153846}\n",
      "{'account_type': 'checking', 'balance': 60218, 'gbp_balance': 46321.53846153846}\n"
     ]
    }
   ],
   "source": [
    "# Connect to MongoDB cluster with MongoClient\n",
    "client = MongoClient(MONGODB_URI)\n",
    "\n",
    "# Get reference to 'bank' database\n",
    "db = client.bank\n",
    "\n",
    "# Get a reference to the 'accounts' collection\n",
    "accounts_collection = db.accounts\n",
    "\n",
    "# Return the account type, original balance, and balance converted to Great British Pounds (GBP)\n",
    "# of all checking accounts with an original balance of greater than $1,500 US dollars, in order from highest original balance to lowest.\n",
    "\n",
    "# To calculate the balance in GBP, divide the original balance by the conversion rate\n",
    "conversion_rate_usd_to_gbp = 1.3\n",
    "\n",
    "# Select checking accounts with balances of more than $1,500.\n",
    "select_accounts = {\"$match\": {\"account_type\": \"checking\", \"balance\": {\"$gt\": 1500}}}\n",
    "\n",
    "# Organize documents in order from highest balance to lowest.\n",
    "organize_by_original_balance = {\"$sort\": {\"balance\": -1}}\n",
    "\n",
    "# Return only the account type & balance fields, plus a new field containing balance in Great British Pounds (GBP).\n",
    "return_specified_fields = {\n",
    "    \"$project\": {\n",
    "        \"account_type\": 1,\n",
    "        \"balance\": 1,\n",
    "        \"gbp_balance\": {\"$divide\": [\"$balance\", conversion_rate_usd_to_gbp]},\n",
    "        \"_id\": 0,\n",
    "    }\n",
    "}\n",
    "\n",
    "# Create an aggegation pipeline containing the four stages created above\n",
    "pipeline = [\n",
    "    select_accounts,\n",
    "    organize_by_original_balance,\n",
    "    return_specified_fields,\n",
    "]\n",
    "\n",
    "# Perform an aggregation on 'pipeline'.\n",
    "results = accounts_collection.aggregate(pipeline)\n",
    "\n",
    "print(\n",
    "    \"Account type, original balance and balance in GDP of checking accounts with original balance greater than $1,500,\"\n",
    "    \"in order from highest original balance to lowest: \", \"\\n\"\n",
    ")\n",
    "\n",
    "for item in results:\n",
    "    pprint.pprint(item)"
   ]
  },
  {
   "cell_type": "code",
   "execution_count": null,
   "metadata": {},
   "outputs": [],
   "source": []
  }
 ],
 "metadata": {
  "kernelspec": {
   "display_name": "Python 3.10.6 ('ENV_mongo': venv)",
   "language": "python",
   "name": "python3"
  },
  "language_info": {
   "codemirror_mode": {
    "name": "ipython",
    "version": 3
   },
   "file_extension": ".py",
   "mimetype": "text/x-python",
   "name": "python",
   "nbconvert_exporter": "python",
   "pygments_lexer": "ipython3",
   "version": "3.10.6"
  },
  "orig_nbformat": 4,
  "vscode": {
   "interpreter": {
    "hash": "279cda2e616a6975d2857c71932d3a4bec6ea86055e3d72f25513e03c7b5d74e"
   }
  }
 },
 "nbformat": 4,
 "nbformat_minor": 2
}
